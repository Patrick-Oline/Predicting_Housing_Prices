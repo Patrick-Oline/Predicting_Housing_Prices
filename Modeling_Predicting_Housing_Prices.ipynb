{
 "cells": [
  {
   "cell_type": "code",
   "execution_count": 1,
   "id": "89eeb34e",
   "metadata": {},
   "outputs": [],
   "source": [
    "import numpy as np \n",
    "import pandas as pd \n",
    "import matplotlib.pyplot as plt \n",
    "import seaborn as sns \n",
    "sns.set()\n",
    "%matplotlib inline\n",
    "\n",
    "from sklearn import linear_model\n",
    "from sklearn.metrics import mean_squared_error\n",
    "from sklearn.metrics import mean_absolute_error as mae\n",
    "\n",
    "from sklearn.model_selection import KFold, cross_validate, cross_val_score\n",
    "import scipy.stats as st\n",
    "\n",
    "from sklearn.ensemble import RandomForestRegressor\n",
    "from sklearn.model_selection import RandomizedSearchCV\n",
    "from sklearn.model_selection import GridSearchCV\n",
    "\n",
    "import warnings \n",
    "warnings.simplefilter(action=\"ignore\", category=FutureWarning)\n",
    "warnings.filterwarnings(action=\"ignore\", module=\"scipy\", message=\"^internal gelsd\")"
   ]
  },
  {
   "cell_type": "code",
   "execution_count": 2,
   "id": "e964fff3",
   "metadata": {},
   "outputs": [],
   "source": [
    "# Load and view data\n",
    "X_train = pd.read_csv('X_train.csv')\n",
    "y_train = pd.read_csv('y_train.csv')\n",
    "\n",
    "X_test = pd.read_csv('X_test.csv')\n",
    "y_test = pd.read_csv('y_test.csv')\n",
    "\n",
    "pd.set_option('display.max_columns', None)"
   ]
  },
  {
   "cell_type": "code",
   "execution_count": 3,
   "id": "3369c48b",
   "metadata": {},
   "outputs": [
    {
     "name": "stdout",
     "output_type": "stream",
     "text": [
      "(1168, 117)\n",
      "(1168, 1)\n",
      "(292, 117)\n",
      "(292, 1)\n"
     ]
    }
   ],
   "source": [
    "print(X_train.shape)\n",
    "print(y_train.shape)\n",
    "print(X_test.shape)\n",
    "print(y_test.shape)"
   ]
  },
  {
   "cell_type": "markdown",
   "id": "6822de3f",
   "metadata": {},
   "source": [
    "# 1. First Linear Regression Model\n",
    "\n",
    "In this model, I ran a straight forward Linear Regression Model."
   ]
  },
  {
   "cell_type": "code",
   "execution_count": 4,
   "id": "fa5b3d06",
   "metadata": {},
   "outputs": [
    {
     "data": {
      "text/plain": [
       "34044.04"
      ]
     },
     "execution_count": 4,
     "metadata": {},
     "output_type": "execute_result"
    }
   ],
   "source": [
    "# Linear Regression Model\n",
    "lr = linear_model.LinearRegression()\n",
    "lr.fit(X_train, y_train)\n",
    "    \n",
    "y_pred = lr.predict(X_test) \n",
    "\n",
    "mse = mean_squared_error(y_test, y_pred)\n",
    "rmse1 = np.sqrt(mse)\n",
    "\n",
    "round(rmse1, 2)"
   ]
  },
  {
   "cell_type": "code",
   "execution_count": 5,
   "id": "f2356a37",
   "metadata": {},
   "outputs": [
    {
     "name": "stdout",
     "output_type": "stream",
     "text": [
      "144795.77\n",
      "212883.86\n"
     ]
    }
   ],
   "source": [
    "# RMSE range\n",
    "y_test_mean = np.mean(y_test)\n",
    "\n",
    "lower = y_test_mean - rmse1\n",
    "upper = y_test_mean + rmse1\n",
    "\n",
    "print(str(round(lower[0], 2)) +'\\n'+ str(round(upper[0], 2)))"
   ]
  },
  {
   "cell_type": "code",
   "execution_count": 6,
   "id": "5a9ff9e5",
   "metadata": {},
   "outputs": [
    {
     "data": {
      "text/plain": [
       "17.091033580513024"
      ]
     },
     "execution_count": 6,
     "metadata": {},
     "output_type": "execute_result"
    }
   ],
   "source": [
    "# Root Mean Square Percent Error\n",
    "rmspe1 = (np.sqrt(np.mean(np.square((y_test - y_pred) / y_test)))) * 100\n",
    "rmspe1[0]"
   ]
  },
  {
   "cell_type": "code",
   "execution_count": 7,
   "id": "f77ef62e",
   "metadata": {},
   "outputs": [
    {
     "name": "stdout",
     "output_type": "stream",
     "text": [
      "Mean absolute error : 21260.00684931507\n"
     ]
    }
   ],
   "source": [
    "# Calculate Mean Absolute Error\n",
    "error = mae(y_test, y_pred)\n",
    "  \n",
    "# display\n",
    "print(\"Mean absolute error : \" + str(error))"
   ]
  },
  {
   "cell_type": "code",
   "execution_count": 8,
   "id": "e328064e",
   "metadata": {},
   "outputs": [
    {
     "name": "stdout",
     "output_type": "stream",
     "text": [
      "Mean absolute percent error : 12.295704942988314\n"
     ]
    }
   ],
   "source": [
    "# Calculate Mean Absolute Percent Error\n",
    "def mape(actual, pred): \n",
    "    actual, pred = np.array(actual), np.array(pred)\n",
    "    calc = np.mean(np.abs((actual - pred) / actual)) * 100\n",
    "    return calc\n",
    "\n",
    "mape1 = mape(y_test,y_pred)\n",
    "\n",
    "print(\"Mean absolute percent error : \" + str(mape1))"
   ]
  },
  {
   "cell_type": "markdown",
   "id": "6fdba3a3",
   "metadata": {},
   "source": [
    "# 2. Second Linear Regression Model\n",
    "\n",
    "I seem to be having some trouble applying Cross validation to my Linear Regression Model. My RMSE value keeps coming out very very large."
   ]
  },
  {
   "cell_type": "code",
   "execution_count": 9,
   "id": "9793afd9",
   "metadata": {},
   "outputs": [
    {
     "name": "stdout",
     "output_type": "stream",
     "text": [
      "Cross Validation Scores:  [-9.27782702e+08 -3.55600702e+31 -9.29906876e+30 -8.05444206e+08\n",
      " -4.05403132e+29]\n",
      "RMSE:  3008805149668394.5\n",
      "Number of CV Scores used in Average:  5\n"
     ]
    }
   ],
   "source": [
    "k_folds = KFold(n_splits=5, random_state=42, shuffle=True)\n",
    "\n",
    "scores = cross_val_score(lr, X_train, y_train, \n",
    "                         scoring=\"neg_mean_squared_error\", cv = k_folds)\n",
    "\n",
    "print(\"Cross Validation Scores: \", scores)\n",
    "print(\"RMSE: \", np.sqrt(np.mean(np.absolute(scores))))\n",
    "print(\"Number of CV Scores used in Average: \", len(scores))"
   ]
  },
  {
   "cell_type": "markdown",
   "id": "214efa8f",
   "metadata": {},
   "source": [
    "# 3. Third Linear Regression Model\n",
    "\n",
    "In this model, I observed the correlation between each column and the \"Saleprice\". I then tested removing lower correlation number to see how the RMSE changed. "
   ]
  },
  {
   "cell_type": "code",
   "execution_count": 10,
   "id": "f9f23b94",
   "metadata": {},
   "outputs": [
    {
     "data": {
      "text/html": [
       "<div>\n",
       "<style scoped>\n",
       "    .dataframe tbody tr th:only-of-type {\n",
       "        vertical-align: middle;\n",
       "    }\n",
       "\n",
       "    .dataframe tbody tr th {\n",
       "        vertical-align: top;\n",
       "    }\n",
       "\n",
       "    .dataframe thead th {\n",
       "        text-align: right;\n",
       "    }\n",
       "</style>\n",
       "<table border=\"1\" class=\"dataframe\">\n",
       "  <thead>\n",
       "    <tr style=\"text-align: right;\">\n",
       "      <th></th>\n",
       "      <th>Column</th>\n",
       "      <th>Correlation</th>\n",
       "    </tr>\n",
       "  </thead>\n",
       "  <tbody>\n",
       "    <tr>\n",
       "      <th>2</th>\n",
       "      <td>OverallQual</td>\n",
       "      <td>0.785555</td>\n",
       "    </tr>\n",
       "    <tr>\n",
       "      <th>12</th>\n",
       "      <td>GrLivArea</td>\n",
       "      <td>0.695652</td>\n",
       "    </tr>\n",
       "    <tr>\n",
       "      <th>21</th>\n",
       "      <td>GarageCars</td>\n",
       "      <td>0.640991</td>\n",
       "    </tr>\n",
       "    <tr>\n",
       "      <th>22</th>\n",
       "      <td>GarageArea</td>\n",
       "      <td>0.624139</td>\n",
       "    </tr>\n",
       "    <tr>\n",
       "      <th>8</th>\n",
       "      <td>TotalBsmtSF</td>\n",
       "      <td>0.597766</td>\n",
       "    </tr>\n",
       "    <tr>\n",
       "      <th>...</th>\n",
       "      <td>...</td>\n",
       "      <td>...</td>\n",
       "    </tr>\n",
       "    <tr>\n",
       "      <th>45</th>\n",
       "      <td>RoofStyle_Mansard</td>\n",
       "      <td>0.006321</td>\n",
       "    </tr>\n",
       "    <tr>\n",
       "      <th>6</th>\n",
       "      <td>BsmtFinSF2</td>\n",
       "      <td>0.005731</td>\n",
       "    </tr>\n",
       "    <tr>\n",
       "      <th>111</th>\n",
       "      <td>Foundation_Wood</td>\n",
       "      <td>0.002776</td>\n",
       "    </tr>\n",
       "    <tr>\n",
       "      <th>110</th>\n",
       "      <td>Foundation_Stone</td>\n",
       "      <td>0.002416</td>\n",
       "    </tr>\n",
       "    <tr>\n",
       "      <th>39</th>\n",
       "      <td>Condition1_RRNe</td>\n",
       "      <td>0.002107</td>\n",
       "    </tr>\n",
       "  </tbody>\n",
       "</table>\n",
       "<p>117 rows × 2 columns</p>\n",
       "</div>"
      ],
      "text/plain": [
       "                Column  Correlation\n",
       "2          OverallQual     0.785555\n",
       "12           GrLivArea     0.695652\n",
       "21          GarageCars     0.640991\n",
       "22          GarageArea     0.624139\n",
       "8          TotalBsmtSF     0.597766\n",
       "..                 ...          ...\n",
       "45   RoofStyle_Mansard     0.006321\n",
       "6           BsmtFinSF2     0.005731\n",
       "111    Foundation_Wood     0.002776\n",
       "110   Foundation_Stone     0.002416\n",
       "39     Condition1_RRNe     0.002107\n",
       "\n",
       "[117 rows x 2 columns]"
      ]
     },
     "execution_count": 10,
     "metadata": {},
     "output_type": "execute_result"
    }
   ],
   "source": [
    "corr_dict={}\n",
    "for col in X_train.columns:\n",
    "    corr = X_train[col].corr(y_train['SalePrice'])\n",
    "    corr_dict.update({col : np.abs(corr)})\n",
    "    \n",
    "corr_df = pd.DataFrame(corr_dict.items(),columns=['Column', 'Correlation'])\\\n",
    "                        .sort_values(by='Correlation',ascending=False)\n",
    "\n",
    "corr_df"
   ]
  },
  {
   "cell_type": "code",
   "execution_count": 11,
   "id": "e0efdab7",
   "metadata": {},
   "outputs": [
    {
     "name": "stdout",
     "output_type": "stream",
     "text": [
      "\u001b[1mNumber of remaining features:\u001b[0m 25\n"
     ]
    }
   ],
   "source": [
    "corr_30 = corr_df[corr_df['Correlation'] > 0.3]\n",
    "print(f'\\033[1mNumber of remaining features:\\033[0m {corr_30.shape[0]}')\n"
   ]
  },
  {
   "cell_type": "code",
   "execution_count": 12,
   "id": "9275b015",
   "metadata": {},
   "outputs": [],
   "source": [
    "new_cols = list(corr_30['Column'])"
   ]
  },
  {
   "cell_type": "code",
   "execution_count": 13,
   "id": "3813cbee",
   "metadata": {},
   "outputs": [
    {
     "name": "stdout",
     "output_type": "stream",
     "text": [
      "(1168, 117)\n",
      "(292, 117)\n",
      "(1168, 25)\n",
      "(292, 25)\n"
     ]
    }
   ],
   "source": [
    "X_train2 = X_train[new_cols]\n",
    "X_test2 = X_test[new_cols]\n",
    "\n",
    "print(X_train.shape)\n",
    "print(X_test.shape)\n",
    "print(X_train2.shape)\n",
    "print(X_test2.shape)"
   ]
  },
  {
   "cell_type": "code",
   "execution_count": 14,
   "id": "50e63949",
   "metadata": {},
   "outputs": [
    {
     "data": {
      "text/plain": [
       "34754.13"
      ]
     },
     "execution_count": 14,
     "metadata": {},
     "output_type": "execute_result"
    }
   ],
   "source": [
    "lr = linear_model.LinearRegression()\n",
    "lr.fit(X_train2, y_train)\n",
    "    \n",
    "y_pred2 = lr.predict(X_test2) \n",
    "\n",
    "mse2 = mean_squared_error(y_test, y_pred2)\n",
    "rmse2 = np.sqrt(mse2)\n",
    "\n",
    "round(rmse2, 2)"
   ]
  },
  {
   "cell_type": "code",
   "execution_count": 15,
   "id": "9186ae7d",
   "metadata": {},
   "outputs": [
    {
     "data": {
      "text/plain": [
       "18.646905087342773"
      ]
     },
     "execution_count": 15,
     "metadata": {},
     "output_type": "execute_result"
    }
   ],
   "source": [
    "# Root Mean Square Percent Error\n",
    "rmspe2 = (np.sqrt(np.mean(np.square((y_test - y_pred2) / y_test)))) * 100\n",
    "rmspe2[0]"
   ]
  },
  {
   "cell_type": "code",
   "execution_count": 16,
   "id": "71625f54",
   "metadata": {},
   "outputs": [
    {
     "name": "stdout",
     "output_type": "stream",
     "text": [
      "Mean absolute error : 22400.1063978875\n"
     ]
    }
   ],
   "source": [
    "# calculate Mean Absolute Error\n",
    "error2 = mae(y_test, y_pred2)\n",
    "  \n",
    "# display\n",
    "print(\"Mean absolute error : \" + str(error2))"
   ]
  },
  {
   "cell_type": "code",
   "execution_count": 17,
   "id": "aa82d9d6",
   "metadata": {},
   "outputs": [
    {
     "name": "stdout",
     "output_type": "stream",
     "text": [
      "Mean absolute percent error : 13.388847987452207\n"
     ]
    }
   ],
   "source": [
    "mape2 = mape(y_test,y_pred2)\n",
    "\n",
    "print(\"Mean absolute percent error : \" + str(mape2))"
   ]
  },
  {
   "cell_type": "markdown",
   "id": "1ea6e669",
   "metadata": {},
   "source": [
    "# 4. Random Forest Model"
   ]
  },
  {
   "cell_type": "code",
   "execution_count": 18,
   "id": "f4df244c",
   "metadata": {},
   "outputs": [
    {
     "data": {
      "text/plain": [
       "27763.0"
      ]
     },
     "execution_count": 18,
     "metadata": {},
     "output_type": "execute_result"
    }
   ],
   "source": [
    "rf = RandomForestRegressor(random_state=42)\n",
    "\n",
    "rf.fit(X_train, y_train.values.ravel())  \n",
    "\n",
    "y_pred3 = rf.predict(X_test) \n",
    "\n",
    "mse3 = mean_squared_error(y_test, y_pred3)\n",
    "rmse3 = np.sqrt(mse3)\n",
    "\n",
    "round(rmse3, 0)"
   ]
  },
  {
   "cell_type": "code",
   "execution_count": 19,
   "id": "d6ccb2b3",
   "metadata": {},
   "outputs": [
    {
     "data": {
      "text/plain": [
       "18.18019480599643"
      ]
     },
     "execution_count": 19,
     "metadata": {},
     "output_type": "execute_result"
    }
   ],
   "source": [
    "y_pred3 = y_pred3.reshape(292,1)\n",
    "\n",
    "# Root Mean Square Percent Error\n",
    "rmspe3 = (np.sqrt(np.mean(np.square((y_test - y_pred3) / y_test)))) * 100\n",
    "rmspe3[0]"
   ]
  },
  {
   "cell_type": "code",
   "execution_count": 20,
   "id": "cec7208d",
   "metadata": {},
   "outputs": [
    {
     "name": "stdout",
     "output_type": "stream",
     "text": [
      "Mean absolute error : 17505.4601826484\n"
     ]
    }
   ],
   "source": [
    "# calculate Mean Absolute Error\n",
    "error3 = mae(y_test, y_pred3)\n",
    "  \n",
    "# display\n",
    "print(\"Mean absolute error : \" + str(error3))"
   ]
  },
  {
   "cell_type": "code",
   "execution_count": 21,
   "id": "db21ddb8",
   "metadata": {},
   "outputs": [
    {
     "name": "stdout",
     "output_type": "stream",
     "text": [
      "Mean absolute percent error : 10.665555030964459\n"
     ]
    }
   ],
   "source": [
    "mape3 = mape(y_test,y_pred3)\n",
    "\n",
    "print(\"Mean absolute percent error : \" + str(mape3))"
   ]
  },
  {
   "cell_type": "markdown",
   "id": "bb1e8f23",
   "metadata": {},
   "source": [
    "# 5. Random Forest Model Hyperparameter Optimization\n",
    " \n",
    "Using RandomizedSearchCV searching for the best hyperparameters."
   ]
  },
  {
   "cell_type": "code",
   "execution_count": 22,
   "id": "6df61a6b",
   "metadata": {},
   "outputs": [
    {
     "name": "stdout",
     "output_type": "stream",
     "text": [
      "{'n_estimators': [200, 400, 600, 800, 1000, 1200, 1400, 1600, 1800, 2000], 'max_features': ['auto', 'sqrt'], 'max_depth': [10, 20, 30, 40, 50, 60, 70, 80, 90, 100, 110, None], 'min_samples_split': [2, 5, 10], 'min_samples_leaf': [1, 2, 4], 'bootstrap': [True, False]}\n"
     ]
    },
    {
     "data": {
      "text/plain": [
       "{'bootstrap': [True, False],\n",
       " 'max_depth': [10, 20, 30, 40, 50, 60, 70, 80, 90, 100, None],\n",
       " 'max_features': ['auto', 'sqrt'],\n",
       " 'min_samples_leaf': [1, 2, 4],\n",
       " 'min_samples_split': [2, 5, 10],\n",
       " 'n_estimators': [200, 400, 600, 800, 1000, 1200, 1400, 1600, 1800, 2000]}"
      ]
     },
     "execution_count": 22,
     "metadata": {},
     "output_type": "execute_result"
    }
   ],
   "source": [
    "# Number of trees in random forest\n",
    "n_estimators = [int(x) for x in np.linspace(start = 200, stop = 2000, num = 10)]\n",
    "\n",
    "# Number of features to consider at every split\n",
    "max_features = ['auto', 'sqrt']\n",
    "\n",
    "# Maximum number of levels in tree\n",
    "max_depth = [int(x) for x in np.linspace(10, 110, num = 11)]\n",
    "max_depth.append(None)\n",
    "\n",
    "# Minimum number of samples required to split a node\n",
    "min_samples_split = [2, 5, 10]\n",
    "\n",
    "# Minimum number of samples required at each leaf node\n",
    "min_samples_leaf = [1, 2, 4]\n",
    "\n",
    "# Method of selecting samples for training each tree\n",
    "bootstrap = [True, False]\n",
    "\n",
    "# Create the random grid\n",
    "random_grid = {'n_estimators': n_estimators,\n",
    "               'max_features': max_features,\n",
    "               'max_depth': max_depth,\n",
    "               'min_samples_split': min_samples_split,\n",
    "               'min_samples_leaf': min_samples_leaf,\n",
    "               'bootstrap': bootstrap}\n",
    "\n",
    "print(random_grid)\n",
    "{'bootstrap': [True, False],\n",
    " 'max_depth': [10, 20, 30, 40, 50, 60, 70, 80, 90, 100, None],\n",
    " 'max_features': ['auto', 'sqrt'],\n",
    " 'min_samples_leaf': [1, 2, 4],\n",
    " 'min_samples_split': [2, 5, 10],\n",
    " 'n_estimators': [200, 400, 600, 800, 1000, 1200, 1400, 1600, 1800, 2000]}"
   ]
  },
  {
   "cell_type": "code",
   "execution_count": 23,
   "id": "5c04b55d",
   "metadata": {},
   "outputs": [
    {
     "name": "stdout",
     "output_type": "stream",
     "text": [
      "Fitting 3 folds for each of 100 candidates, totalling 300 fits\n"
     ]
    },
    {
     "data": {
      "text/plain": [
       "{'n_estimators': 400,\n",
       " 'min_samples_split': 2,\n",
       " 'min_samples_leaf': 1,\n",
       " 'max_features': 'sqrt',\n",
       " 'max_depth': None,\n",
       " 'bootstrap': False}"
      ]
     },
     "execution_count": 23,
     "metadata": {},
     "output_type": "execute_result"
    }
   ],
   "source": [
    "# Use the random grid to search for best hyperparameters\n",
    "# First create the base model to tune\n",
    "rf = RandomForestRegressor()\n",
    "\n",
    "# Random search of parameters, using 3 fold cross validation, \n",
    "# search across 100 different combinations, and use all available cores\n",
    "rf_random = RandomizedSearchCV(estimator = rf, param_distributions = random_grid, \n",
    "                               n_iter = 100, cv = 3, verbose=2, random_state=42, n_jobs = -1)\n",
    "\n",
    "# Fit the random search model\n",
    "rf_random.fit(X_train, y_train.values.ravel())\n",
    "\n",
    "# Best params\n",
    "rf_random.best_params_"
   ]
  },
  {
   "cell_type": "code",
   "execution_count": 24,
   "id": "49e8cfdb",
   "metadata": {},
   "outputs": [
    {
     "data": {
      "text/plain": [
       "28930.0"
      ]
     },
     "execution_count": 24,
     "metadata": {},
     "output_type": "execute_result"
    }
   ],
   "source": [
    "#Apply best params\n",
    "  \n",
    "rf2 = RandomForestRegressor(n_estimators= 400, min_samples_split= 2,\n",
    "                            min_samples_leaf= 1, max_features= 'sqrt',\n",
    "                            max_depth= None, bootstrap= False, random_state=42)\n",
    "\n",
    "\n",
    "rf2.fit(X_train, y_train.values.ravel())  \n",
    "\n",
    "y_pred4 = rf2.predict(X_test) \n",
    "\n",
    "mse4 = mean_squared_error(y_test, y_pred4)\n",
    "rmse4 = np.sqrt(mse4)\n",
    "\n",
    "round(rmse4, 0)"
   ]
  },
  {
   "cell_type": "code",
   "execution_count": 25,
   "id": "9a8575d0",
   "metadata": {},
   "outputs": [
    {
     "data": {
      "text/plain": [
       "18.932930258350016"
      ]
     },
     "execution_count": 25,
     "metadata": {},
     "output_type": "execute_result"
    }
   ],
   "source": [
    "y_pred4 = y_pred4.reshape(292,1)\n",
    "\n",
    "# Root Mean Square Percent Error\n",
    "rmspe4 = (np.sqrt(np.mean(np.square((y_test - y_pred4) / y_test)))) * 100\n",
    "rmspe4[0]"
   ]
  },
  {
   "cell_type": "code",
   "execution_count": 26,
   "id": "daaa9220",
   "metadata": {},
   "outputs": [
    {
     "name": "stdout",
     "output_type": "stream",
     "text": [
      "Mean absolute error : 16803.014999999996\n"
     ]
    }
   ],
   "source": [
    "# calculate Mean Absolute Error\n",
    "error4 = mae(y_test, y_pred4)\n",
    "  \n",
    "# display\n",
    "print(\"Mean absolute error : \" + str(error4))"
   ]
  },
  {
   "cell_type": "code",
   "execution_count": 27,
   "id": "8cdb0332",
   "metadata": {},
   "outputs": [
    {
     "name": "stdout",
     "output_type": "stream",
     "text": [
      "Mean absolute percent error : 10.49535137104386\n"
     ]
    }
   ],
   "source": [
    "mape4 = mape(y_test,y_pred4)\n",
    "\n",
    "print(\"Mean absolute percent error : \" + str(mape4))"
   ]
  },
  {
   "cell_type": "markdown",
   "id": "0ded8b5e",
   "metadata": {},
   "source": [
    "# 6. Random Forest Model Hyperparameter Optimization\n",
    " \n",
    "Using GridSearchCV searching for the best hyperparameters."
   ]
  },
  {
   "cell_type": "code",
   "execution_count": 28,
   "id": "7176a7cb",
   "metadata": {},
   "outputs": [],
   "source": [
    "# Create the parameter grid based on the results of random search \n",
    "param_grid = {\n",
    "    'bootstrap': [True],\n",
    "    'max_depth': [80, 90, 100, 110],\n",
    "    'max_features': [2, 3],\n",
    "    'min_samples_leaf': [3, 4, 5],\n",
    "    'min_samples_split': [8, 10, 12],\n",
    "    'n_estimators': [100, 200, 300, 1000]\n",
    "}\n",
    "    \n",
    "# Create a based model\n",
    "rf3 = RandomForestRegressor()\n",
    "\n",
    "# Instantiate the grid search model\n",
    "grid_search = GridSearchCV(estimator = rf3, param_grid = param_grid, \n",
    "                          cv = 3, n_jobs = -1, verbose = 2)\n"
   ]
  },
  {
   "cell_type": "code",
   "execution_count": 29,
   "id": "2559b769",
   "metadata": {},
   "outputs": [
    {
     "name": "stdout",
     "output_type": "stream",
     "text": [
      "Fitting 3 folds for each of 288 candidates, totalling 864 fits\n"
     ]
    },
    {
     "data": {
      "text/plain": [
       "{'bootstrap': True,\n",
       " 'max_depth': 90,\n",
       " 'max_features': 3,\n",
       " 'min_samples_leaf': 3,\n",
       " 'min_samples_split': 8,\n",
       " 'n_estimators': 200}"
      ]
     },
     "execution_count": 29,
     "metadata": {},
     "output_type": "execute_result"
    }
   ],
   "source": [
    "# Fit the grid search to the data\n",
    "grid_search.fit(X_train, y_train.values.ravel())\n",
    "grid_search.best_params_"
   ]
  },
  {
   "cell_type": "code",
   "execution_count": 30,
   "id": "cbccf047",
   "metadata": {},
   "outputs": [
    {
     "data": {
      "text/plain": [
       "42705.0"
      ]
     },
     "execution_count": 30,
     "metadata": {},
     "output_type": "execute_result"
    }
   ],
   "source": [
    "rf3 = RandomForestRegressor(n_estimators= 100, min_samples_split= 8,\n",
    "                            min_samples_leaf= 3, max_features= 3,\n",
    "                            max_depth= 100, bootstrap= True, random_state=42)\n",
    "\n",
    "\n",
    "rf3.fit(X_train, y_train.values.ravel())  \n",
    "\n",
    "y_pred5 = rf3.predict(X_test) \n",
    "\n",
    "mse5 = mean_squared_error(y_test, y_pred5)\n",
    "rmse5 = np.sqrt(mse5)\n",
    "\n",
    "round(rmse5, 0)"
   ]
  },
  {
   "cell_type": "code",
   "execution_count": 31,
   "id": "41d1be26",
   "metadata": {},
   "outputs": [
    {
     "data": {
      "text/plain": [
       "27.31570437630738"
      ]
     },
     "execution_count": 31,
     "metadata": {},
     "output_type": "execute_result"
    }
   ],
   "source": [
    "y_pred5 = y_pred5.reshape(292,1)\n",
    "\n",
    "# Root Mean Square Percent Error\n",
    "rmspe5 = (np.sqrt(np.mean(np.square((y_test - y_pred5) / y_test)))) * 100\n",
    "rmspe5[0]"
   ]
  },
  {
   "cell_type": "code",
   "execution_count": 32,
   "id": "c65ff283",
   "metadata": {},
   "outputs": [
    {
     "name": "stdout",
     "output_type": "stream",
     "text": [
      "Mean absolute error : 24293.047791938076\n"
     ]
    }
   ],
   "source": [
    "# calculate Mean Absolute Error\n",
    "error5 = mae(y_test, y_pred5)\n",
    "  \n",
    "# display\n",
    "print(\"Mean absolute error : \" + str(error5))"
   ]
  },
  {
   "cell_type": "code",
   "execution_count": 33,
   "id": "6c14b52a",
   "metadata": {
    "scrolled": true
   },
   "outputs": [
    {
     "name": "stdout",
     "output_type": "stream",
     "text": [
      "Mean absolute percent error : 15.583474793001056\n"
     ]
    }
   ],
   "source": [
    "mape5 = mape(y_test,y_pred5)\n",
    "\n",
    "print(\"Mean absolute percent error : \" + str(mape5))"
   ]
  },
  {
   "cell_type": "markdown",
   "id": "61d5ebb3",
   "metadata": {},
   "source": [
    "# 7. Results Dataframe"
   ]
  },
  {
   "cell_type": "code",
   "execution_count": 34,
   "id": "521147dd",
   "metadata": {},
   "outputs": [
    {
     "data": {
      "text/html": [
       "<div>\n",
       "<style scoped>\n",
       "    .dataframe tbody tr th:only-of-type {\n",
       "        vertical-align: middle;\n",
       "    }\n",
       "\n",
       "    .dataframe tbody tr th {\n",
       "        vertical-align: top;\n",
       "    }\n",
       "\n",
       "    .dataframe thead th {\n",
       "        text-align: right;\n",
       "    }\n",
       "</style>\n",
       "<table border=\"1\" class=\"dataframe\">\n",
       "  <thead>\n",
       "    <tr style=\"text-align: right;\">\n",
       "      <th></th>\n",
       "      <th>Name</th>\n",
       "      <th>RMSE</th>\n",
       "      <th>RMSPE</th>\n",
       "      <th>MAE</th>\n",
       "      <th>MAPE</th>\n",
       "    </tr>\n",
       "  </thead>\n",
       "  <tbody>\n",
       "    <tr>\n",
       "      <th>0</th>\n",
       "      <td>1st LR Model</td>\n",
       "      <td>34044.044801</td>\n",
       "      <td>17.091034</td>\n",
       "      <td>21260.006849</td>\n",
       "      <td>12.295705</td>\n",
       "    </tr>\n",
       "    <tr>\n",
       "      <th>1</th>\n",
       "      <td>LR CORR Model</td>\n",
       "      <td>34754.126151</td>\n",
       "      <td>18.646905</td>\n",
       "      <td>22400.106398</td>\n",
       "      <td>13.388848</td>\n",
       "    </tr>\n",
       "    <tr>\n",
       "      <th>2</th>\n",
       "      <td>1st RF Model</td>\n",
       "      <td>27763.130613</td>\n",
       "      <td>18.180195</td>\n",
       "      <td>17505.460183</td>\n",
       "      <td>10.665555</td>\n",
       "    </tr>\n",
       "    <tr>\n",
       "      <th>3</th>\n",
       "      <td>RF RandCV Model</td>\n",
       "      <td>28930.042529</td>\n",
       "      <td>18.932930</td>\n",
       "      <td>16803.015000</td>\n",
       "      <td>10.495351</td>\n",
       "    </tr>\n",
       "    <tr>\n",
       "      <th>4</th>\n",
       "      <td>RF GridCV Model</td>\n",
       "      <td>42705.141467</td>\n",
       "      <td>27.315704</td>\n",
       "      <td>24293.047792</td>\n",
       "      <td>15.583475</td>\n",
       "    </tr>\n",
       "  </tbody>\n",
       "</table>\n",
       "</div>"
      ],
      "text/plain": [
       "              Name          RMSE      RMSPE           MAE       MAPE\n",
       "0     1st LR Model  34044.044801  17.091034  21260.006849  12.295705\n",
       "1    LR CORR Model  34754.126151  18.646905  22400.106398  13.388848\n",
       "2     1st RF Model  27763.130613  18.180195  17505.460183  10.665555\n",
       "3  RF RandCV Model  28930.042529  18.932930  16803.015000  10.495351\n",
       "4  RF GridCV Model  42705.141467  27.315704  24293.047792  15.583475"
      ]
     },
     "execution_count": 34,
     "metadata": {},
     "output_type": "execute_result"
    }
   ],
   "source": [
    "error_df = pd.DataFrame([('1st LR Model', rmse1, rmspe1[0], error, mape1),\n",
    "                  ('LR CORR Model', rmse2, rmspe2[0], error2, mape2),\n",
    "                  ('1st RF Model', rmse3, rmspe3[0], error3, mape3), \n",
    "                  ('RF RandCV Model', rmse4, rmspe4[0], error4, mape4),\n",
    "                  ('RF GridCV Model',rmse5, rmspe5[0], error5, mape5)], \n",
    "                 columns = ['Name','RMSE', 'RMSPE','MAE',\"MAPE\"])\n",
    "\n",
    "error_df"
   ]
  }
 ],
 "metadata": {
  "kernelspec": {
   "display_name": "Python 3 (ipykernel)",
   "language": "python",
   "name": "python3"
  },
  "language_info": {
   "codemirror_mode": {
    "name": "ipython",
    "version": 3
   },
   "file_extension": ".py",
   "mimetype": "text/x-python",
   "name": "python",
   "nbconvert_exporter": "python",
   "pygments_lexer": "ipython3",
   "version": "3.9.7"
  }
 },
 "nbformat": 4,
 "nbformat_minor": 5
}
