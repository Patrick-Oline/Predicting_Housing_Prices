{
 "cells": [
  {
   "cell_type": "code",
   "execution_count": 1,
   "id": "21777136",
   "metadata": {},
   "outputs": [],
   "source": [
    "import numpy as np \n",
    "import pandas as pd \n",
    "import matplotlib.pyplot as plt \n",
    "import seaborn as sns \n",
    "sns.set()\n",
    "%matplotlib inline\n",
    "\n",
    "from sklearn import linear_model\n",
    "from sklearn.metrics import mean_squared_error\n",
    "from sklearn.metrics import mean_absolute_error as mae\n",
    "\n",
    "from sklearn.model_selection import KFold, cross_validate, cross_val_score\n",
    "import scipy.stats as st\n",
    "\n",
    "from sklearn.ensemble import RandomForestRegressor\n",
    "from sklearn.model_selection import RandomizedSearchCV\n",
    "from sklearn.model_selection import GridSearchCV\n",
    "\n",
    "import warnings \n",
    "warnings.simplefilter(action=\"ignore\", category=FutureWarning)\n",
    "warnings.filterwarnings(action=\"ignore\", module=\"scipy\", message=\"^internal gelsd\")"
   ]
  },
  {
   "cell_type": "code",
   "execution_count": 2,
   "id": "ab18c965",
   "metadata": {},
   "outputs": [],
   "source": [
    "# Load and view data\n",
    "X_train = pd.read_csv('X_train.csv')\n",
    "y_train = pd.read_csv('y_train.csv')\n",
    "\n",
    "X_test = pd.read_csv('X_test.csv')\n",
    "y_test = pd.read_csv('y_test.csv')\n",
    "\n",
    "pd.set_option('display.max_columns', None)"
   ]
  },
  {
   "cell_type": "code",
   "execution_count": 3,
   "id": "2b44f3d0",
   "metadata": {},
   "outputs": [
    {
     "name": "stdout",
     "output_type": "stream",
     "text": [
      "(1168, 117)\n",
      "(1168, 1)\n",
      "(292, 117)\n",
      "(292, 1)\n"
     ]
    }
   ],
   "source": [
    "print(X_train.shape)\n",
    "print(y_train.shape)\n",
    "print(X_test.shape)\n",
    "print(y_test.shape)"
   ]
  },
  {
   "cell_type": "markdown",
   "id": "1255f840",
   "metadata": {},
   "source": [
    "# 1. First Linear Regression Model\n",
    "\n",
    "In this model, I ran a straight forward Linear Regression Model."
   ]
  },
  {
   "cell_type": "code",
   "execution_count": 4,
   "id": "76ce693c",
   "metadata": {},
   "outputs": [
    {
     "data": {
      "text/plain": [
       "34044.04"
      ]
     },
     "execution_count": 4,
     "metadata": {},
     "output_type": "execute_result"
    }
   ],
   "source": [
    "# Linear Regression Model\n",
    "lr = linear_model.LinearRegression()\n",
    "lr.fit(X_train, y_train)\n",
    "    \n",
    "y_pred = lr.predict(X_test) \n",
    "\n",
    "mse = mean_squared_error(y_test, y_pred)\n",
    "rmse1 = np.sqrt(mse)\n",
    "\n",
    "round(rmse1, 2)"
   ]
  },
  {
   "cell_type": "code",
   "execution_count": 5,
   "id": "20a35412",
   "metadata": {},
   "outputs": [
    {
     "name": "stdout",
     "output_type": "stream",
     "text": [
      "144795.77\n",
      "212883.86\n"
     ]
    }
   ],
   "source": [
    "# RMSE range\n",
    "y_test_mean = np.mean(y_test)\n",
    "\n",
    "lower = y_test_mean - rmse1\n",
    "upper = y_test_mean + rmse1\n",
    "\n",
    "print(str(round(lower[0], 2)) +'\\n'+ str(round(upper[0], 2)))"
   ]
  },
  {
   "cell_type": "code",
   "execution_count": 6,
   "id": "1100c65b",
   "metadata": {},
   "outputs": [
    {
     "data": {
      "text/plain": [
       "17.091033580513024"
      ]
     },
     "execution_count": 6,
     "metadata": {},
     "output_type": "execute_result"
    }
   ],
   "source": [
    "# Root Mean Square Percent Error\n",
    "rmspe1 = (np.sqrt(np.mean(np.square((y_test - y_pred) / y_test)))) * 100\n",
    "rmspe1[0]"
   ]
  },
  {
   "cell_type": "code",
   "execution_count": 7,
   "id": "1c5f4b02",
   "metadata": {},
   "outputs": [
    {
     "name": "stdout",
     "output_type": "stream",
     "text": [
      "Mean absolute error : 21260.00684931507\n"
     ]
    }
   ],
   "source": [
    "# Calculate Mean Absolute Error\n",
    "error = mae(y_test, y_pred)\n",
    "  \n",
    "# display\n",
    "print(\"Mean absolute error : \" + str(error))"
   ]
  },
  {
   "cell_type": "code",
   "execution_count": 8,
   "id": "dfc40492",
   "metadata": {},
   "outputs": [
    {
     "name": "stdout",
     "output_type": "stream",
     "text": [
      "Mean absolute percent error : 12.295704942988314\n"
     ]
    }
   ],
   "source": [
    "# Calculate Mean Absolute Percent Error\n",
    "def mape(actual, pred): \n",
    "    actual, pred = np.array(actual), np.array(pred)\n",
    "    calc = np.mean(np.abs((actual - pred) / actual)) * 100\n",
    "    return calc\n",
    "\n",
    "mape1 = mape(y_test,y_pred)\n",
    "\n",
    "print(\"Mean absolute percent error : \" + str(mape1))"
   ]
  },
  {
   "cell_type": "markdown",
   "id": "21f20d6c",
   "metadata": {},
   "source": [
    "# 2. Second Linear Regression Model\n",
    "\n",
    "I seem to be having some trouble applying Cross validation to my Linear Regression Model. My RMSE value keeps coming out very very large."
   ]
  },
  {
   "cell_type": "code",
   "execution_count": 9,
   "id": "317500dc",
   "metadata": {},
   "outputs": [
    {
     "name": "stdout",
     "output_type": "stream",
     "text": [
      "Cross Validation Scores:  [-9.27782702e+08 -3.55600702e+31 -9.29906876e+30 -8.05444206e+08\n",
      " -4.05403132e+29]\n",
      "RMSE:  3008805149668394.5\n",
      "Number of CV Scores used in Average:  5\n"
     ]
    }
   ],
   "source": [
    "k_folds = KFold(n_splits=5, random_state=42, shuffle=True)\n",
    "\n",
    "scores = cross_val_score(lr, X_train, y_train, \n",
    "                         scoring=\"neg_mean_squared_error\", cv = k_folds)\n",
    "\n",
    "print(\"Cross Validation Scores: \", scores)\n",
    "print(\"RMSE: \", np.sqrt(np.mean(np.absolute(scores))))\n",
    "print(\"Number of CV Scores used in Average: \", len(scores))"
   ]
  },
  {
   "cell_type": "markdown",
   "id": "8f7ee906",
   "metadata": {},
   "source": [
    "# 3. Third Linear Regression Model\n",
    "\n",
    "In this model, I observed the correlation between each column and the \"Saleprice\". I then tested removing lower correlation number to see how the RMSE changed. "
   ]
  },
  {
   "cell_type": "code",
   "execution_count": 10,
   "id": "5d0c5147",
   "metadata": {},
   "outputs": [
    {
     "data": {
      "text/html": [
       "<div>\n",
       "<style scoped>\n",
       "    .dataframe tbody tr th:only-of-type {\n",
       "        vertical-align: middle;\n",
       "    }\n",
       "\n",
       "    .dataframe tbody tr th {\n",
       "        vertical-align: top;\n",
       "    }\n",
       "\n",
       "    .dataframe thead th {\n",
       "        text-align: right;\n",
       "    }\n",
       "</style>\n",
       "<table border=\"1\" class=\"dataframe\">\n",
       "  <thead>\n",
       "    <tr style=\"text-align: right;\">\n",
       "      <th></th>\n",
       "      <th>Column</th>\n",
       "      <th>Correlation</th>\n",
       "    </tr>\n",
       "  </thead>\n",
       "  <tbody>\n",
       "    <tr>\n",
       "      <th>2</th>\n",
       "      <td>OverallQual</td>\n",
       "      <td>0.785555</td>\n",
       "    </tr>\n",
       "    <tr>\n",
       "      <th>12</th>\n",
       "      <td>GrLivArea</td>\n",
       "      <td>0.695652</td>\n",
       "    </tr>\n",
       "    <tr>\n",
       "      <th>21</th>\n",
       "      <td>GarageCars</td>\n",
       "      <td>0.640991</td>\n",
       "    </tr>\n",
       "    <tr>\n",
       "      <th>22</th>\n",
       "      <td>GarageArea</td>\n",
       "      <td>0.624139</td>\n",
       "    </tr>\n",
       "    <tr>\n",
       "      <th>8</th>\n",
       "      <td>TotalBsmtSF</td>\n",
       "      <td>0.597766</td>\n",
       "    </tr>\n",
       "    <tr>\n",
       "      <th>...</th>\n",
       "      <td>...</td>\n",
       "      <td>...</td>\n",
       "    </tr>\n",
       "    <tr>\n",
       "      <th>45</th>\n",
       "      <td>RoofStyle_Mansard</td>\n",
       "      <td>0.006321</td>\n",
       "    </tr>\n",
       "    <tr>\n",
       "      <th>6</th>\n",
       "      <td>BsmtFinSF2</td>\n",
       "      <td>0.005731</td>\n",
       "    </tr>\n",
       "    <tr>\n",
       "      <th>111</th>\n",
       "      <td>Foundation_Wood</td>\n",
       "      <td>0.002776</td>\n",
       "    </tr>\n",
       "    <tr>\n",
       "      <th>110</th>\n",
       "      <td>Foundation_Stone</td>\n",
       "      <td>0.002416</td>\n",
       "    </tr>\n",
       "    <tr>\n",
       "      <th>39</th>\n",
       "      <td>Condition1_RRNe</td>\n",
       "      <td>0.002107</td>\n",
       "    </tr>\n",
       "  </tbody>\n",
       "</table>\n",
       "<p>117 rows × 2 columns</p>\n",
       "</div>"
      ],
      "text/plain": [
       "                Column  Correlation\n",
       "2          OverallQual     0.785555\n",
       "12           GrLivArea     0.695652\n",
       "21          GarageCars     0.640991\n",
       "22          GarageArea     0.624139\n",
       "8          TotalBsmtSF     0.597766\n",
       "..                 ...          ...\n",
       "45   RoofStyle_Mansard     0.006321\n",
       "6           BsmtFinSF2     0.005731\n",
       "111    Foundation_Wood     0.002776\n",
       "110   Foundation_Stone     0.002416\n",
       "39     Condition1_RRNe     0.002107\n",
       "\n",
       "[117 rows x 2 columns]"
      ]
     },
     "execution_count": 10,
     "metadata": {},
     "output_type": "execute_result"
    }
   ],
   "source": [
    "corr_dict={}\n",
    "for col in X_train.columns:\n",
    "    corr = X_train[col].corr(y_train['SalePrice'])\n",
    "    corr_dict.update({col : np.abs(corr)})\n",
    "    \n",
    "corr_df = pd.DataFrame(corr_dict.items(),columns=['Column', 'Correlation'])\\\n",
    "                        .sort_values(by='Correlation',ascending=False)\n",
    "\n",
    "corr_df"
   ]
  },
  {
   "cell_type": "code",
   "execution_count": 11,
   "id": "c4247b73",
   "metadata": {},
   "outputs": [
    {
     "name": "stdout",
     "output_type": "stream",
     "text": [
      "\u001b[1mNumber of remaining features:\u001b[0m 92\n"
     ]
    }
   ],
   "source": [
    "corr_30 = corr_df[corr_df['Correlation'] > 0.04]\n",
    "print(f'\\033[1mNumber of remaining features:\\033[0m {corr_30.shape[0]}')\n"
   ]
  },
  {
   "cell_type": "code",
   "execution_count": 12,
   "id": "d1af033f",
   "metadata": {},
   "outputs": [],
   "source": [
    "new_cols = list(corr_30['Column'])"
   ]
  },
  {
   "cell_type": "code",
   "execution_count": 13,
   "id": "52652c6c",
   "metadata": {},
   "outputs": [
    {
     "data": {
      "text/plain": [
       "['OverallQual',\n",
       " 'GrLivArea',\n",
       " 'GarageCars',\n",
       " 'GarageArea',\n",
       " 'TotalBsmtSF',\n",
       " '1stFlrSF',\n",
       " 'ExterQual_TA',\n",
       " 'FullBath',\n",
       " 'TotRmsAbvGrd',\n",
       " 'Built_to_Sale',\n",
       " 'KitchenQual_TA',\n",
       " 'KitchenQual_Ex',\n",
       " 'Years_Since_Remod',\n",
       " 'Foundation_PConc',\n",
       " 'MasVnrArea',\n",
       " 'Fireplaces',\n",
       " 'HeatingQC_Ex',\n",
       " 'ExterQual_Gd',\n",
       " 'ExterQual_Ex',\n",
       " 'BsmtFinSF1',\n",
       " 'Foundation_CBlock',\n",
       " 'WoodDeckSF',\n",
       " 'KitchenQual_Gd',\n",
       " 'HeatingQC_TA',\n",
       " '2ndFlrSF',\n",
       " 'OpenPorchSF',\n",
       " 'HalfBath',\n",
       " 'MSZoning_RM',\n",
       " 'CentralAir_N',\n",
       " 'CentralAir_Y',\n",
       " 'LotArea',\n",
       " 'LotShape_Reg',\n",
       " 'HouseStyle_2Story',\n",
       " 'RoofStyle_Hip',\n",
       " 'PavedDrive_Y',\n",
       " 'RoofStyle_Gable',\n",
       " 'BsmtFullBath',\n",
       " 'MSZoning_RL',\n",
       " 'BsmtUnfSF',\n",
       " 'PavedDrive_N',\n",
       " 'LotShape_IR1',\n",
       " 'Foundation_BrkTil',\n",
       " 'HouseStyle_1.5Fin',\n",
       " 'KitchenQual_Fa',\n",
       " 'BedroomAbvGr',\n",
       " 'HeatingQC_Gd',\n",
       " 'LotConfig_CulDSac',\n",
       " 'EnclosedPorch',\n",
       " 'LandContour_HLS',\n",
       " 'KitchenAbvGr',\n",
       " 'BldgType_1Fam',\n",
       " 'LotShape_IR2',\n",
       " 'ExterCond_Fa',\n",
       " 'HeatingQC_Fa',\n",
       " 'Foundation_Slab',\n",
       " 'Condition1_Feedr',\n",
       " 'Functional_Typ',\n",
       " 'ScreenPorch',\n",
       " 'PoolArea',\n",
       " 'ExterCond_TA',\n",
       " 'BldgType_Duplex',\n",
       " 'ExterQual_Fa',\n",
       " 'BldgType_2fmCon',\n",
       " 'LandContour_Bnk',\n",
       " 'Condition1_Norm',\n",
       " 'Condition1_Artery',\n",
       " 'MSZoning_FV',\n",
       " 'BldgType_Twnhs',\n",
       " 'HouseStyle_1.5Unf',\n",
       " 'MSSubClass',\n",
       " 'PavedDrive_P',\n",
       " 'HouseStyle_SFoyer',\n",
       " 'Functional_Min2',\n",
       " 'OverallCond',\n",
       " 'MSZoning_RH',\n",
       " 'Functional_Min1',\n",
       " 'MSZoning_C (all)',\n",
       " 'Functional_Maj2',\n",
       " 'LandSlope_Gtl',\n",
       " 'Condition1_PosN',\n",
       " 'ExterCond_Gd',\n",
       " 'LotConfig_Inside',\n",
       " 'HouseStyle_2.5Fin',\n",
       " 'HouseStyle_1Story',\n",
       " '3SsnPorch',\n",
       " 'LandSlope_Sev',\n",
       " 'LandSlope_Mod',\n",
       " 'Condition1_RRAe',\n",
       " 'BsmtHalfBath',\n",
       " 'Condition1_PosA',\n",
       " 'LotShape_IR3',\n",
       " 'HouseStyle_SLvl']"
      ]
     },
     "execution_count": 13,
     "metadata": {},
     "output_type": "execute_result"
    }
   ],
   "source": [
    "new_cols"
   ]
  },
  {
   "cell_type": "code",
   "execution_count": 14,
   "id": "0546f5bf",
   "metadata": {},
   "outputs": [
    {
     "name": "stdout",
     "output_type": "stream",
     "text": [
      "(1168, 117)\n",
      "(292, 117)\n",
      "(1168, 92)\n",
      "(292, 92)\n"
     ]
    }
   ],
   "source": [
    "X_train2 = X_train[new_cols]\n",
    "X_test2 = X_test[new_cols]\n",
    "\n",
    "print(X_train.shape)\n",
    "print(X_test.shape)\n",
    "print(X_train2.shape)\n",
    "print(X_test2.shape)"
   ]
  },
  {
   "cell_type": "code",
   "execution_count": 15,
   "id": "6a472406",
   "metadata": {},
   "outputs": [
    {
     "data": {
      "text/plain": [
       "34044.59"
      ]
     },
     "execution_count": 15,
     "metadata": {},
     "output_type": "execute_result"
    }
   ],
   "source": [
    "lr = linear_model.LinearRegression()\n",
    "lr.fit(X_train2, y_train)\n",
    "    \n",
    "y_pred2 = lr.predict(X_test2) \n",
    "\n",
    "mse2 = mean_squared_error(y_test, y_pred2)\n",
    "rmse2 = np.sqrt(mse2)\n",
    "\n",
    "round(rmse2, 2)"
   ]
  },
  {
   "cell_type": "code",
   "execution_count": 16,
   "id": "aa8f7ecc",
   "metadata": {},
   "outputs": [
    {
     "data": {
      "text/plain": [
       "17.007386918942736"
      ]
     },
     "execution_count": 16,
     "metadata": {},
     "output_type": "execute_result"
    }
   ],
   "source": [
    "# Root Mean Square Percent Error\n",
    "rmspe2 = (np.sqrt(np.mean(np.square((y_test - y_pred2) / y_test)))) * 100\n",
    "rmspe2[0]"
   ]
  },
  {
   "cell_type": "code",
   "execution_count": 17,
   "id": "1bbb3e94",
   "metadata": {},
   "outputs": [
    {
     "name": "stdout",
     "output_type": "stream",
     "text": [
      "Mean absolute error : 21274.763698630137\n"
     ]
    }
   ],
   "source": [
    "# calculate Mean Absolute Error\n",
    "error2 = mae(y_test, y_pred2)\n",
    "  \n",
    "# display\n",
    "print(\"Mean absolute error : \" + str(error2))"
   ]
  },
  {
   "cell_type": "code",
   "execution_count": 18,
   "id": "634b5564",
   "metadata": {},
   "outputs": [
    {
     "name": "stdout",
     "output_type": "stream",
     "text": [
      "Mean absolute percent error : 12.24988277983894\n"
     ]
    }
   ],
   "source": [
    "mape2 = mape(y_test,y_pred2)\n",
    "\n",
    "print(\"Mean absolute percent error : \" + str(mape2))"
   ]
  },
  {
   "cell_type": "code",
   "execution_count": 19,
   "id": "e00abf69",
   "metadata": {},
   "outputs": [],
   "source": [
    "correlations = np.arange(0.0, 0.7, 0.01)\n",
    "\n",
    "RMSEs = []\n",
    "RMSPEs = []\n",
    "MAEs = []\n",
    "MAPEs = []\n",
    "\n",
    "for corr in correlations:\n",
    "    corr_new2 = corr_df[corr_df['Correlation'] > corr]\n",
    "    \n",
    "    new_cols = list(corr_new2['Column'])\n",
    "    \n",
    "    X_train_new = X_train[new_cols]\n",
    "    X_test_new = X_test[new_cols]\n",
    "    \n",
    "    lr = linear_model.LinearRegression()\n",
    "    lr.fit(X_train_new, y_train)\n",
    "    y_pred_new = lr.predict(X_test_new) \n",
    "    \n",
    "    mse_new = mean_squared_error(y_test, y_pred_new)\n",
    "    rmse_new = np.sqrt(mse_new)\n",
    "    RMSEs.append(round(rmse_new, 2))\n",
    "    \n",
    "    # Root Mean Square Percent Error\n",
    "    rmspe_new = (np.sqrt(np.mean(np.square((y_test - y_pred_new) / y_test)))) * 100\n",
    "    \n",
    "    \n",
    "    # calculate Mean Absolute Error\n",
    "    error_new = mae(y_test, y_pred_new)\n",
    "    MAEs.append(round(error_new, 2))\n",
    "    mape_new = mape(y_test,y_pred_new)\n",
    "    \n",
    "    RMSPEs.append(rmspe_new[0])\n",
    "    MAPEs.append(mape_new)\n"
   ]
  },
  {
   "cell_type": "code",
   "execution_count": 20,
   "id": "bf10964c",
   "metadata": {},
   "outputs": [],
   "source": [
    "# Min at corr = 0.07\n",
    "RMSE_corr_min = min(RMSEs) \n",
    "RMSPE_corr_min = min(RMSPEs)"
   ]
  },
  {
   "cell_type": "code",
   "execution_count": 21,
   "id": "0c65b6e5",
   "metadata": {},
   "outputs": [
    {
     "data": {
      "text/plain": [
       "12.24988277983894"
      ]
     },
     "execution_count": 21,
     "metadata": {},
     "output_type": "execute_result"
    }
   ],
   "source": [
    "# Min at corr = 0.04\n",
    "MAE_corr_min = min(MAEs) \n",
    "MAPE_corr_min = min(MAPEs)\n",
    "MAPE_corr_min"
   ]
  },
  {
   "cell_type": "code",
   "execution_count": 22,
   "id": "2bf665ba",
   "metadata": {
    "scrolled": true
   },
   "outputs": [
    {
     "data": {
      "image/png": "[encoded data removed]",
      "text/plain": [
       "<Figure size 432x288 with 1 Axes>"
      ]
     },
     "metadata": {
      "needs_background": "light"
     },
     "output_type": "display_data"
    }
   ],
   "source": [
    "plt.scatter(x=correlations, y=RMSPEs)\n",
    "plt.scatter(x=correlations, y=MAPEs)\n",
    "\n",
    "plt.axhline(rmspe1[0], color = 'r', linestyle = '--', label = 'Model 1 RMSPE')\n",
    "plt.axhline(mape1, color = 'b', linestyle = '--', label = 'Model 1 MAPE')\n",
    "\n",
    "plt.title('Column Correlation vs Percent Error')\n",
    "plt.xlabel('Column Correlation Amount')\n",
    "plt.ylabel('Percent Error')\n",
    "\n",
    "plt.legend(['Model 1 RMSPE', 'Model 1 MAPE', 'RMSPE', 'MAPE'])\n",
    "plt.show()"
   ]
  },
  {
   "cell_type": "code",
   "execution_count": 23,
   "id": "854f0975",
   "metadata": {},
   "outputs": [
    {
     "data": {
      "image/png": "[encoded data removed]",
      "text/plain": [
       "<Figure size 432x288 with 1 Axes>"
      ]
     },
     "metadata": {
      "needs_background": "light"
     },
     "output_type": "display_data"
    }
   ],
   "source": [
    "plt.scatter(x=correlations, y=RMSPEs)\n",
    "plt.scatter(x=correlations, y=MAPEs)\n",
    "\n",
    "plt.axhline(rmspe1[0], color = 'r', linestyle = '--', label = 'Model 1 RMSPE')\n",
    "plt.axhline(mape1, color = 'b', linestyle = '--', label = 'Model 1 MAPE')\n",
    "\n",
    "plt.title('Column Correlation vs Percent Error')\n",
    "plt.xlabel('Column Correlation Amount')\n",
    "plt.ylabel('Percent Error')\n",
    "\n",
    "plt.legend(['Model 1 RMSPE', 'Model 1 MAPE', 'RMSPE', 'MAPE'])\n",
    "plt.show()"
   ]
  },
  {
   "cell_type": "markdown",
   "id": "ee28221f",
   "metadata": {},
   "source": [
    "# 4. Random Forest Model"
   ]
  },
  {
   "cell_type": "code",
   "execution_count": 24,
   "id": "6e1e8e57",
   "metadata": {},
   "outputs": [
    {
     "data": {
      "text/plain": [
       "27763.0"
      ]
     },
     "execution_count": 24,
     "metadata": {},
     "output_type": "execute_result"
    }
   ],
   "source": [
    "rf = RandomForestRegressor(random_state=42)\n",
    "\n",
    "rf.fit(X_train, y_train.values.ravel())  \n",
    "\n",
    "y_pred3 = rf.predict(X_test) \n",
    "\n",
    "mse3 = mean_squared_error(y_test, y_pred3)\n",
    "rmse3 = np.sqrt(mse3)\n",
    "\n",
    "round(rmse3, 0)"
   ]
  },
  {
   "cell_type": "code",
   "execution_count": 25,
   "id": "d49b77a9",
   "metadata": {},
   "outputs": [
    {
     "data": {
      "text/plain": [
       "18.18019480599643"
      ]
     },
     "execution_count": 25,
     "metadata": {},
     "output_type": "execute_result"
    }
   ],
   "source": [
    "y_pred3 = y_pred3.reshape(292,1)\n",
    "\n",
    "# Root Mean Square Percent Error\n",
    "rmspe3 = (np.sqrt(np.mean(np.square((y_test - y_pred3) / y_test)))) * 100\n",
    "rmspe3[0]"
   ]
  },
  {
   "cell_type": "code",
   "execution_count": 26,
   "id": "b2835183",
   "metadata": {},
   "outputs": [
    {
     "name": "stdout",
     "output_type": "stream",
     "text": [
      "Mean absolute error : 17505.4601826484\n"
     ]
    }
   ],
   "source": [
    "# calculate Mean Absolute Error\n",
    "error3 = mae(y_test, y_pred3)\n",
    "  \n",
    "# display\n",
    "print(\"Mean absolute error : \" + str(error3))"
   ]
  },
  {
   "cell_type": "code",
   "execution_count": 27,
   "id": "39ea6960",
   "metadata": {},
   "outputs": [
    {
     "name": "stdout",
     "output_type": "stream",
     "text": [
      "Mean absolute percent error : 10.665555030964459\n"
     ]
    }
   ],
   "source": [
    "mape3 = mape(y_test,y_pred3)\n",
    "\n",
    "print(\"Mean absolute percent error : \" + str(mape3))"
   ]
  },
  {
   "cell_type": "markdown",
   "id": "3593fb03",
   "metadata": {},
   "source": [
    "# 5. Random Forest Model Hyperparameter Optimization\n",
    " \n",
    "Using RandomizedSearchCV searching for the best hyperparameters."
   ]
  },
  {
   "cell_type": "code",
   "execution_count": 28,
   "id": "e4355377",
   "metadata": {},
   "outputs": [
    {
     "name": "stdout",
     "output_type": "stream",
     "text": [
      "{'n_estimators': [200, 400, 600, 800, 1000, 1200, 1400, 1600, 1800, 2000], 'max_features': ['auto', 'sqrt'], 'max_depth': [10, 20, 30, 40, 50, 60, 70, 80, 90, 100, 110, None], 'min_samples_split': [2, 5, 10], 'min_samples_leaf': [1, 2, 4], 'bootstrap': [True, False]}\n"
     ]
    },
    {
     "data": {
      "text/plain": [
       "{'bootstrap': [True, False],\n",
       " 'max_depth': [10, 20, 30, 40, 50, 60, 70, 80, 90, 100, None],\n",
       " 'max_features': ['auto', 'sqrt'],\n",
       " 'min_samples_leaf': [1, 2, 4],\n",
       " 'min_samples_split': [2, 5, 10],\n",
       " 'n_estimators': [200, 400, 600, 800, 1000, 1200, 1400, 1600, 1800, 2000]}"
      ]
     },
     "execution_count": 28,
     "metadata": {},
     "output_type": "execute_result"
    }
   ],
   "source": [
    "# Number of trees in random forest\n",
    "n_estimators = [int(x) for x in np.linspace(start = 200, stop = 2000, num = 10)]\n",
    "\n",
    "# Number of features to consider at every split\n",
    "max_features = ['auto', 'sqrt']\n",
    "\n",
    "# Maximum number of levels in tree\n",
    "max_depth = [int(x) for x in np.linspace(10, 110, num = 11)]\n",
    "max_depth.append(None)\n",
    "\n",
    "# Minimum number of samples required to split a node\n",
    "min_samples_split = [2, 5, 10]\n",
    "\n",
    "# Minimum number of samples required at each leaf node\n",
    "min_samples_leaf = [1, 2, 4]\n",
    "\n",
    "# Method of selecting samples for training each tree\n",
    "bootstrap = [True, False]\n",
    "\n",
    "# Create the random grid\n",
    "random_grid = {'n_estimators': n_estimators,\n",
    "               'max_features': max_features,\n",
    "               'max_depth': max_depth,\n",
    "               'min_samples_split': min_samples_split,\n",
    "               'min_samples_leaf': min_samples_leaf,\n",
    "               'bootstrap': bootstrap}\n",
    "\n",
    "print(random_grid)\n",
    "{'bootstrap': [True, False],\n",
    " 'max_depth': [10, 20, 30, 40, 50, 60, 70, 80, 90, 100, None],\n",
    " 'max_features': ['auto', 'sqrt'],\n",
    " 'min_samples_leaf': [1, 2, 4],\n",
    " 'min_samples_split': [2, 5, 10],\n",
    " 'n_estimators': [200, 400, 600, 800, 1000, 1200, 1400, 1600, 1800, 2000]}"
   ]
  },
  {
   "cell_type": "code",
   "execution_count": null,
   "id": "e137774a",
   "metadata": {},
   "outputs": [
    {
     "name": "stdout",
     "output_type": "stream",
     "text": [
      "Fitting 3 folds for each of 100 candidates, totalling 300 fits\n"
     ]
    }
   ],
   "source": [
    "# Use the random grid to search for best hyperparameters\n",
    "# First create the base model to tune\n",
    "rf = RandomForestRegressor()\n",
    "\n",
    "# Random search of parameters, using 3 fold cross validation, \n",
    "# search across 100 different combinations, and use all available cores\n",
    "rf_random = RandomizedSearchCV(estimator = rf, param_distributions = random_grid, \n",
    "                               n_iter = 100, cv = 3, verbose=2, random_state=42, n_jobs = -1)\n",
    "\n",
    "# Fit the random search model\n",
    "rf_random.fit(X_train, y_train.values.ravel())\n",
    "\n",
    "# Best params\n",
    "rf_random.best_params_"
   ]
  },
  {
   "cell_type": "code",
   "execution_count": null,
   "id": "3fb821f4",
   "metadata": {},
   "outputs": [],
   "source": [
    "#Apply best params\n",
    "  \n",
    "rf2 = RandomForestRegressor(n_estimators= 400, min_samples_split= 2,\n",
    "                            min_samples_leaf= 1, max_features= 'sqrt',\n",
    "                            max_depth= None, bootstrap= False, random_state=42)\n",
    "\n",
    "\n",
    "rf2.fit(X_train, y_train.values.ravel())  \n",
    "\n",
    "y_pred4 = rf2.predict(X_test) \n",
    "\n",
    "mse4 = mean_squared_error(y_test, y_pred4)\n",
    "rmse4 = np.sqrt(mse4)\n",
    "\n",
    "round(rmse4, 0)"
   ]
  },
  {
   "cell_type": "code",
   "execution_count": null,
   "id": "a8983bd7",
   "metadata": {},
   "outputs": [],
   "source": [
    "y_pred4 = y_pred4.reshape(292,1)\n",
    "\n",
    "# Root Mean Square Percent Error\n",
    "rmspe4 = (np.sqrt(np.mean(np.square((y_test - y_pred4) / y_test)))) * 100\n",
    "rmspe4[0]"
   ]
  },
  {
   "cell_type": "code",
   "execution_count": null,
   "id": "edf2c147",
   "metadata": {},
   "outputs": [],
   "source": [
    "# calculate Mean Absolute Error\n",
    "error4 = mae(y_test, y_pred4)\n",
    "  \n",
    "# display\n",
    "print(\"Mean absolute error : \" + str(error4))"
   ]
  },
  {
   "cell_type": "code",
   "execution_count": null,
   "id": "b42e9e35",
   "metadata": {},
   "outputs": [],
   "source": [
    "mape4 = mape(y_test,y_pred4)\n",
    "\n",
    "print(\"Mean absolute percent error : \" + str(mape4))"
   ]
  },
  {
   "cell_type": "markdown",
   "id": "aa1a2712",
   "metadata": {},
   "source": [
    "# 6. Random Forest Model Hyperparameter Optimization\n",
    " \n",
    "Using GridSearchCV searching for the best hyperparameters."
   ]
  },
  {
   "cell_type": "code",
   "execution_count": null,
   "id": "d087025c",
   "metadata": {},
   "outputs": [],
   "source": [
    "# Create the parameter grid based on the results of random search \n",
    "param_grid = {\n",
    "    'bootstrap': [True],\n",
    "    'max_depth': [80, 90, 100, 110],\n",
    "    'max_features': [2, 3],\n",
    "    'min_samples_leaf': [3, 4, 5],\n",
    "    'min_samples_split': [8, 10, 12],\n",
    "    'n_estimators': [100, 200, 300, 1000]\n",
    "}\n",
    "    \n",
    "# Create a based model\n",
    "rf3 = RandomForestRegressor()\n",
    "\n",
    "# Instantiate the grid search model\n",
    "grid_search = GridSearchCV(estimator = rf3, param_grid = param_grid, \n",
    "                          cv = 3, n_jobs = -1, verbose = 2)\n"
   ]
  },
  {
   "cell_type": "code",
   "execution_count": null,
   "id": "9818d224",
   "metadata": {},
   "outputs": [],
   "source": [
    "# Fit the grid search to the data\n",
    "grid_search.fit(X_train, y_train.values.ravel())\n",
    "grid_search.best_params_"
   ]
  },
  {
   "cell_type": "code",
   "execution_count": null,
   "id": "2a479673",
   "metadata": {},
   "outputs": [],
   "source": [
    "rf3 = RandomForestRegressor(n_estimators= 100, min_samples_split= 8,\n",
    "                            min_samples_leaf= 3, max_features= 3,\n",
    "                            max_depth= 100, bootstrap= True, random_state=42)\n",
    "\n",
    "\n",
    "rf3.fit(X_train, y_train.values.ravel())  \n",
    "\n",
    "y_pred5 = rf3.predict(X_test) \n",
    "\n",
    "mse5 = mean_squared_error(y_test, y_pred5)\n",
    "rmse5 = np.sqrt(mse5)\n",
    "\n",
    "round(rmse5, 0)"
   ]
  },
  {
   "cell_type": "code",
   "execution_count": null,
   "id": "cee3a664",
   "metadata": {},
   "outputs": [],
   "source": [
    "y_pred5 = y_pred5.reshape(292,1)\n",
    "\n",
    "# Root Mean Square Percent Error\n",
    "rmspe5 = (np.sqrt(np.mean(np.square((y_test - y_pred5) / y_test)))) * 100\n",
    "rmspe5[0]"
   ]
  },
  {
   "cell_type": "code",
   "execution_count": null,
   "id": "f972a4b1",
   "metadata": {},
   "outputs": [],
   "source": [
    "# calculate Mean Absolute Error\n",
    "error5 = mae(y_test, y_pred5)\n",
    "  \n",
    "# display\n",
    "print(\"Mean absolute error : \" + str(error5))"
   ]
  },
  {
   "cell_type": "code",
   "execution_count": null,
   "id": "55604679",
   "metadata": {
    "scrolled": true
   },
   "outputs": [],
   "source": [
    "mape5 = mape(y_test,y_pred5)\n",
    "\n",
    "print(\"Mean absolute percent error : \" + str(mape5))"
   ]
  },
  {
   "cell_type": "markdown",
   "id": "d3e7f161",
   "metadata": {},
   "source": [
    "# 7. Results Dataframe"
   ]
  },
  {
   "cell_type": "code",
   "execution_count": null,
   "id": "1d7f4032",
   "metadata": {},
   "outputs": [],
   "source": [
    "error_df = pd.DataFrame([('1st LR Model', rmse1, rmspe1[0], error, mape1),\n",
    "                  ('LR CORR Model', RMSE_corr_min, RMSPE_corr_min, MAE_corr_min, MAPE_corr_min),\n",
    "                  ('1st RF Model', rmse3, rmspe3[0], error3, mape3), \n",
    "                  ('RF RandCV Model', rmse4, rmspe4[0], error4, mape4),\n",
    "                  ('RF GridCV Model',rmse5, rmspe5[0], error5, mape5)], \n",
    "                 columns = ['Name','RMSE', 'RMSPE','MAE',\"MAPE\"])\n",
    "\n",
    "error_df"
   ]
  },
  {
   "cell_type": "code",
   "execution_count": null,
   "id": "1a7c5947",
   "metadata": {},
   "outputs": [],
   "source": [
    "df = pd.DataFrame(dict(graph= error_df['Name'],\n",
    "                           n=error_df['RMSPE'], m=error_df['MAPE'])) \n",
    "\n",
    "ind = np.arange(len(df))\n",
    "width = 0.4\n",
    "\n",
    "fig, ax = plt.subplots()\n",
    "ax.barh(ind, df.n, width, color='blue', label='RMSPE')\n",
    "ax.barh(ind + width, df.m, width, color='red', label='MAPE')\n",
    "\n",
    "ax.set(yticks=ind + width, yticklabels=df.graph, ylim=[2*width - 1, len(df)])\n",
    "\n",
    "ax.legend()\n",
    "plt.xlabel('Percent Error')\n",
    "plt.gca().invert_yaxis()\n",
    "plt.show()"
   ]
  },
  {
   "cell_type": "markdown",
   "id": "ac59bdb1",
   "metadata": {},
   "source": [
    "# 8. Generating Prices from Random Data\n",
    "\n",
    "Here I used random entries from the previous training data to predict the price of a house."
   ]
  },
  {
   "cell_type": "code",
   "execution_count": null,
   "id": "e7a5519f",
   "metadata": {},
   "outputs": [],
   "source": [
    "# Load and view data\n",
    "pre_scaled = pd.read_csv('pre_scaled.csv')\n",
    "pd.set_option('display.max_columns', None)"
   ]
  },
  {
   "cell_type": "code",
   "execution_count": null,
   "id": "9b11d096",
   "metadata": {},
   "outputs": [],
   "source": [
    "import random\n",
    "\n",
    "data = {}\n",
    "\n",
    "random.seed(42)\n",
    "\n",
    "for feature in X_train.columns:\n",
    "    random.seed(42)\n",
    "    data[feature] = np.random.choice(X_train[feature], 3).tolist()\n",
    "\n",
    "houses_new = pd.DataFrame(data)\n",
    "\n",
    "\n",
    "\n",
    "#houses_new = houses_new[cols]\n",
    "\n",
    "houses_new.shape"
   ]
  },
  {
   "cell_type": "code",
   "execution_count": null,
   "id": "6a802c01",
   "metadata": {},
   "outputs": [],
   "source": [
    "#Apply best params\n",
    "  \n",
    "rf2 = RandomForestRegressor(n_estimators= 400, min_samples_split= 2,\n",
    "                            min_samples_leaf= 1, max_features= 'sqrt',\n",
    "                            max_depth= None, bootstrap= False, random_state=42)\n",
    "\n",
    "rf2.fit(X_train, y_train.values.ravel())  \n",
    "y_pred_random = rf2.predict(houses_new)\n",
    "\n",
    "houses_new_SalePrice = y_pred_random\n",
    "\n",
    "houses_new_SalePrice\n"
   ]
  },
  {
   "cell_type": "code",
   "execution_count": null,
   "id": "863a8b27",
   "metadata": {},
   "outputs": [],
   "source": [
    "from sklearn.preprocessing import MinMaxScaler\n",
    "\n",
    "scaler = MinMaxScaler(feature_range = (0,1))\n",
    "scaled_data = scaler.fit_transform(pre_scaled)\n",
    "\n",
    "data = scaler.inverse_transform(houses_new)"
   ]
  },
  {
   "cell_type": "code",
   "execution_count": null,
   "id": "0507dba9",
   "metadata": {},
   "outputs": [],
   "source": [
    "data = pd.DataFrame(np.array(data),columns=pre_scaled.columns)"
   ]
  },
  {
   "cell_type": "code",
   "execution_count": null,
   "id": "906f2b78",
   "metadata": {},
   "outputs": [],
   "source": [
    "data['SalePrice'] = houses_new_SalePrice\n",
    "\n",
    "data"
   ]
  },
  {
   "cell_type": "code",
   "execution_count": null,
   "id": "53fdec28",
   "metadata": {},
   "outputs": [],
   "source": [
    "cols = ['SalePrice','OverallQual', 'GrLivArea', 'GarageCars', 'GarageArea', 'TotalBsmtSF', \n",
    "        '1stFlrSF', 'FullBath', 'Built_to_Sale', 'Years_Since_Remod', 'TotRmsAbvGrd']\n",
    "data_new = data[cols] \n",
    "data_new"
   ]
  },
  {
   "cell_type": "code",
   "execution_count": null,
   "id": "5941bc50",
   "metadata": {},
   "outputs": [],
   "source": []
  }
 ],
 "metadata": {
  "kernelspec": {
   "display_name": "Python 3 (ipykernel)",
   "language": "python",
   "name": "python3"
  },
  "language_info": {
   "codemirror_mode": {
    "name": "ipython",
    "version": 3
   },
   "file_extension": ".py",
   "mimetype": "text/x-python",
   "name": "python",
   "nbconvert_exporter": "python",
   "pygments_lexer": "ipython3",
   "version": "3.9.7"
  }
 },
 "nbformat": 4,
 "nbformat_minor": 5
}
